{
 "cells": [
  {
   "cell_type": "raw",
   "metadata": {
    "colab_type": "raw",
    "id": "E16Nxn-BBS4E"
   },
   "source": [
    "<script>\n",
    "  function code_toggle() {\n",
    "    if (code_shown){\n",
    "      $('div.input').hide('500');\n",
    "      $('#toggleButton').val('Show Code')\n",
    "    } else {\n",
    "      $('div.input').show('500');\n",
    "      $('#toggleButton').val('Hide Code')\n",
    "    }\n",
    "    code_shown = !code_shown\n",
    "  }\n",
    "\n",
    "  $( document ).ready(function(){\n",
    "    code_shown=false;\n",
    "    $('div.input').hide()\n",
    "  });\n",
    "</script>\n",
    "<form action=\"javascript:code_toggle()\"><input type=\"submit\" id=\"toggleButton\" value=\"Show Code\"></form>"
   ]
  },
  {
   "cell_type": "markdown",
   "metadata": {
    "colab_type": "text",
    "id": "OEmr5llH59H0"
   },
   "source": [
    "## Importing necessary libraries"
   ]
  },
  {
   "cell_type": "code",
   "execution_count": 1,
   "metadata": {
    "colab": {},
    "colab_type": "code",
    "id": "NHlHTdxpMChH"
   },
   "outputs": [],
   "source": [
    "%matplotlib inline\n",
    "import random\n",
    "import itertools\n",
    "import matplotlib.pyplot as plt\n",
    "import networkx as nx\n",
    "import ipywidgets as widgets\n",
    "import warnings\n",
    "warnings.filterwarnings('ignore')"
   ]
  },
  {
   "cell_type": "markdown",
   "metadata": {
    "colab_type": "text",
    "id": "2UnavfkJMChM"
   },
   "source": [
    "## Helper Functions"
   ]
  },
  {
   "cell_type": "code",
   "execution_count": 2,
   "metadata": {
    "colab": {},
    "colab_type": "code",
    "id": "smsEvOL2MChO"
   },
   "outputs": [],
   "source": [
    "def colour(n):\n",
    "    ret = {}\n",
    "    for i in range(n):\n",
    "        r = int(random.random() * 256)\n",
    "        g = int(random.random() * 256)\n",
    "        b = int(random.random() * 256)\n",
    "        ret[i] = \"#{:02x}{:02x}{:02x}\".format(r,g,b) \n",
    "    return ret\n",
    "colorList = colour(5000)\n",
    "minDegNode = lambda G: min(G, key=G.degree)\n",
    "maxDegNode = lambda G: max(G, key=G.degree)\n",
    "\n",
    "def transformDict(myDict):\n",
    "    for key,value in myDict.items():\n",
    "        myDict[key] = colorList[value]\n",
    "    return myDict"
   ]
  },
  {
   "cell_type": "markdown",
   "metadata": {
    "colab_type": "text",
    "id": "23OPkwu5MChL"
   },
   "source": [
    "## List of Strategies Used:\n",
    "1. Greedy Graph Coloring Algorithm (Vanilla)\n",
    "2. Greedy Graph Coloring By Ordering Nodes By Largest Degree First\n",
    "3. Greedy Graph Coloring By Random Ordering of Nodes\n",
    "4. Welsh Powell\n",
    "5. Greedy Graph Colouring Using BFS\n",
    "6. Greedy Graph Colouring Using DFS"
   ]
  },
  {
   "cell_type": "code",
   "execution_count": 3,
   "metadata": {
    "colab": {},
    "colab_type": "code",
    "id": "VXmQrmpkMChS"
   },
   "outputs": [],
   "source": [
    "def greedyGraphColoring(G):\n",
    "    colors = {}\n",
    "    graphNodes = G.nodes()\n",
    "    \n",
    "    for node in graphNodes:\n",
    "        adjColors = set()\n",
    "        for adjNode in G.neighbors(node):\n",
    "            if adjNode in colors:\n",
    "                adjColors.add(colors[adjNode])\n",
    "                \n",
    "        for color in itertools.count():\n",
    "            if color not in adjColors:\n",
    "                break\n",
    "                \n",
    "        colors[node] = color\n",
    "    return colors\n",
    "\n",
    "def greedyDegreeSort(G):\n",
    "    colors = {}\n",
    "    graphNodes = list(G.nodes())\n",
    "    graphNodes.sort(key=lambda node: -G.degree(node))\n",
    "    \n",
    "    for node in graphNodes:\n",
    "        adjColors = set()\n",
    "        for adjNode in G.neighbors(node):\n",
    "            if adjNode in colors:\n",
    "                adjColors.add(colors[adjNode])\n",
    "                \n",
    "        for color in itertools.count():\n",
    "            if color not in adjColors:\n",
    "                break\n",
    "                \n",
    "        colors[node] = color\n",
    "    return colors\n",
    "\n",
    "def greedyRandomShuffling(G):\n",
    "    colors = {}\n",
    "    graphNodes = G.nodes()\n",
    "    random.shuffle(list(graphNodes))\n",
    "    \n",
    "    for node in graphNodes:\n",
    "        adjColors = set()\n",
    "        for adjNode in G.neighbors(node):\n",
    "            if adjNode in colors:\n",
    "                adjColors.add(colors[adjNode])\n",
    "                \n",
    "        for color in itertools.count():\n",
    "            if color not in adjColors:\n",
    "                break\n",
    "                \n",
    "        colors[node] = color\n",
    "    return colors\n",
    "\n",
    "if(False):\n",
    "        def welsh_powell(G):  \n",
    "            x = sorted(G.degree, key=lambda x: x[1], reverse=True)\n",
    "            len_g = len(G)\n",
    "            no_colored = 0\n",
    "            k = 1\n",
    "            colors = dict()\n",
    "            while no_colored <  len_g:\n",
    "                colored = set()\n",
    "                colorednodes = set()\n",
    "                for node in x:\n",
    "                    y = set(G.neighbors(node[0]))\n",
    "                    if y.intersection(colorednodes) == set():\n",
    "                        colors[node[0]] = k\n",
    "                        no_colored +=1\n",
    "                        colored.add(node)\n",
    "                        colorednodes.add(node[0])\n",
    "                x = list(set(x) - colored)\n",
    "                k+=1\n",
    "            return colors\n",
    "    \n",
    "def welsh_powell(G):\n",
    "    colors = {}  \n",
    "    x = sorted(G.degree, key=lambda x: x[1], reverse=True)\n",
    "    len_g = len(G)\n",
    "    no_colored = 0\n",
    "    k = 1\n",
    "    while no_colored <  len_g:\n",
    "        colored = set()\n",
    "        for new_node in x:\n",
    "            if colored not in G.neighbors(new_node[0]):\n",
    "                colors[new_node[0]] = k\n",
    "                no_colored +=1\n",
    "                colored.add(new_node)\n",
    "        x = list(set(x) - colored)\n",
    "        k+=1\n",
    "    return colors\n",
    "\n",
    "def strategy_connected_sequential_bfs(G, colors):\n",
    "    return strategy_connected_sequential(G, colors, 'bfs')\n",
    "def strategy_connected_sequential_dfs(G, colors):\n",
    "    return strategy_connected_sequential(G, colors, 'dfs')\n",
    "def strategy_connected_sequential(G, colors, traversal='bfs'):\n",
    "    for component_graph in nx.connected_component_subgraphs(G):\n",
    "        source = component_graph.nodes()[0]\n",
    "        yield source\n",
    "        if traversal == 'bfs':\n",
    "            tree = nx.bfs_edges(component_graph, source)\n",
    "        elif traversal == 'dfs':\n",
    "            tree = nx.dfs_edges(component_graph, source)\n",
    "        for (_, end) in tree:\n",
    "            yield end\n",
    "            \n",
    "def greedy_color(G, strategy, interchange=False):\n",
    "    colors = {}\n",
    "    for node in nodes:\n",
    "        neighbour_colors = set()\n",
    "        for neighbour in G.neighbors_iter(node):\n",
    "            if neighbour in colors:\n",
    "                neighbour_colors.add(colors[neighbour])\n",
    "        for color in itertools.count():\n",
    "            if color not in neighbour_colors:\n",
    "                break\n",
    "        colors[node] = color\n",
    "    return colors\n",
    "            \n"
   ]
  },
  {
   "cell_type": "markdown",
   "metadata": {
    "colab_type": "text",
    "id": "709ILyjDMChi"
   },
   "source": [
    "## Function to check time taken by various strategies:"
   ]
  },
  {
   "cell_type": "code",
   "execution_count": 4,
   "metadata": {
    "colab": {},
    "colab_type": "code",
    "id": "RPE8Lm0cMChi"
   },
   "outputs": [],
   "source": [
    "def printGraphAndAnalyse(G, sizeoffigure):\n",
    "    fig = plt.figure(figsize=(2*sizeoffigure,sizeoffigure))\n",
    "    plt.subplot(1, 2, 1)\n",
    "    nx.draw(G, with_labels=True)\n",
    "    plt.subplot(1, 2, 2)\n",
    "    nodeColors = transformDict(greedyGraphColoring(G))\n",
    "    nx.draw(G, with_labels=True, node_color=list(nodeColors.values()))\n",
    "    plt.show()\n",
    "    print(\"Time taken by different Algorithms:\\n\")\n",
    "    print(\"Basic Greedy Algorithm:\")\n",
    "    %timeit -n 10 -r 2 greedyGraphColoring(G)\n",
    "    print(\"\\nGreedy Graph Coloring By Ordering Nodes (By Largest Degree First):\")\n",
    "    %timeit -n 10 -r 2 greedyDegreeSort(G)\n",
    "    print(\"\\nGreedy Algorithm With Random Shuffling:\")\n",
    "    %timeit -n 10 -r 2 greedyRandomShuffling(G)\n",
    "    print(\"\\nWelsh Powell:\")\n",
    "    %timeit -n 10 -r 2 welsh_powell(G)\n",
    "    print(\"\\nGreedy Algorithm using DFS \")\n",
    "    %timeit -n 10 -r 2 nx.coloring.greedy_color(G, strategy=nx.coloring.strategy_connected_sequential_dfs)    \n",
    "    print(\"\\nGreedy Algorithm using BFS \")\n",
    "    %timeit -n 10 -r 2 nx.coloring.greedy_color(G, strategy=nx.coloring.strategy_connected_sequential_bfs)"
   ]
  },
  {
   "cell_type": "code",
   "execution_count": 5,
   "metadata": {
    "colab": {
     "base_uri": "https://localhost:8080/",
     "height": 893
    },
    "colab_type": "code",
    "executionInfo": {
     "elapsed": 1913,
     "status": "ok",
     "timestamp": 1537087167231,
     "user": {
      "displayName": "Rutvik Shah",
      "photoUrl": "//lh6.googleusercontent.com/-WiC1AJ8O0NA/AAAAAAAAAAI/AAAAAAAACWk/V38QQR5ypvQ/s50-c-k-no/photo.jpg",
      "userId": "106338664803916304984"
     },
     "user_tz": -330
    },
    "id": "YOI1L4TGMChu",
    "outputId": "f5bea4b0-1dbe-4565-af25-ff23d1638b3b"
   },
   "outputs": [
    {
     "data": {
      "application/vnd.jupyter.widget-view+json": {
       "model_id": "02b31479849c419f8d326dc09a79c0d5",
       "version_major": 2,
       "version_minor": 0
      },
      "text/plain": [
       "interactive(children=(Dropdown(description='Type of Graph:', layout=Layout(width='85%'), options=('Complete Gr…"
      ]
     },
     "metadata": {},
     "output_type": "display_data"
    }
   ],
   "source": [
    "def graph_colouring(Type, noOfNodes, plotSize, edgeProbability, branchingFactor_bt, height_bt):\n",
    "    if Type == \"Complete Graph\" :\n",
    "        G = nx.complete_graph(noOfNodes)\n",
    "    elif Type == \"Balanced Tree\":\n",
    "        G = nx.balanced_tree(branchingFactor_bt, height_bt)\n",
    "    elif Type == \"Cycle Graph\":\n",
    "        G = nx.cycle_graph(noOfNodes)\n",
    "    elif Type == \"Random graph\":\n",
    "        G = nx.fast_gnp_random_graph(noOfNodes,edgeProbability)\n",
    "    printGraphAndAnalyse(G, plotSize)\n",
    "    \n",
    "style = {'description_align':'left','description_width': '25%'}\n",
    "layout = widgets.Layout(width='90%')\n",
    "layout1 = widgets.Layout(width='85%')\n",
    "cuf = True\n",
    "interactive_plot = widgets.interactive(graph_colouring,\n",
    "    noOfNodes = widgets.IntSlider(description='Number of nodes in graph', min = 2, max = 100, step = 1, value = 3, style = style, layout = layout, continuous_update = cuf),\n",
    "    Type = widgets.Dropdown(options=['Complete Graph','Balanced Tree', 'Cycle Graph', 'Random graph'], value='Complete Graph', description='Type of Graph:', style = style, layout = layout1),\n",
    "    plotSize = widgets.IntSlider(description='Size of Graph (Inch x Inch)', min = 3, max = 15, step = 1, value = 10, style = style, layout = layout, continuous_update = cuf),\n",
    "    edgeProbability = widgets.FloatSlider(description='Edge Probabibility (Erdős–Rényi model)', min = 0, max = 6.6, step = 0.01, value = 0.4, style = style, layout = layout, continuous_update = cuf),\n",
    "    branchingFactor_bt = widgets.IntSlider(description='Branching Factor of the Balanced Tree)', min = 1, max = 10, step = 1, value = 3, style = style, layout = layout, continuous_update = cuf),\n",
    "    height_bt = widgets.IntSlider(description='Height of the Balanced Tree)', min = 1, max = 10, step = 1, value = 2, style = style, layout = layout, continuous_update = cuf))\n",
    "output = interactive_plot.children[-1]\n",
    "output.layout.height = '1100px'\n",
    "interactive_plot"
   ]
  }
 ],
 "metadata": {
  "colab": {
   "name": "UI.ipynb",
   "provenance": [],
   "version": "0.3.2"
  },
  "kernelspec": {
   "display_name": "Python 3",
   "language": "python",
   "name": "python3"
  },
  "language_info": {
   "codemirror_mode": {
    "name": "ipython",
    "version": 3
   },
   "file_extension": ".py",
   "mimetype": "text/x-python",
   "name": "python",
   "nbconvert_exporter": "python",
   "pygments_lexer": "ipython3",
   "version": "3.6.5"
  }
 },
 "nbformat": 4,
 "nbformat_minor": 2
}
